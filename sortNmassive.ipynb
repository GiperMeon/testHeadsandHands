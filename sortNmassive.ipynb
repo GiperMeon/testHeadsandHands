{
 "cells": [
  {
   "cell_type": "code",
   "execution_count": 193,
   "metadata": {},
   "outputs": [],
   "source": [
    "import random as rand\n",
    "def sortNmassive(n):\n",
    "    lens = list( range( 0, n*n ) )\n",
    "    rand.shuffle( lens )\n",
    "    numberRand = rand.randint( 0, n-1 )\n",
    "    massive = [[int(rand.randint( -n, n )) for i in range( j ) ] for j in lens[numberRand*n : numberRand*n + n]]\n",
    "    for index in range( n ):\n",
    "        if ( index%2 == 0 ):\n",
    "            massive[ index ].sort( reverse = True )\n",
    "        else:\n",
    "            massive[ index ].sort()\n",
    "    return massive"
   ]
  }
 ],
 "metadata": {
  "kernelspec": {
   "display_name": "Python 3",
   "language": "python",
   "name": "python3"
  },
  "language_info": {
   "codemirror_mode": {
    "name": "ipython",
    "version": 3
   },
   "file_extension": ".py",
   "mimetype": "text/x-python",
   "name": "python",
   "nbconvert_exporter": "python",
   "pygments_lexer": "ipython3",
   "version": "3.7.4"
  }
 },
 "nbformat": 4,
 "nbformat_minor": 2
}
